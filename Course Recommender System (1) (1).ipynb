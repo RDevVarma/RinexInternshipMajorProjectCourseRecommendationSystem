{
 "cells": [
  {
   "cell_type": "code",
   "execution_count": 1,
   "id": "8072516e",
   "metadata": {
    "scrolled": true
   },
   "outputs": [],
   "source": [
    "\n",
    "import pandas as pd\n",
    "import neattext.functions as nfx\n",
    "from sklearn.feature_extraction.text import TfidfVectorizer,CountVectorizer\n",
    "from sklearn.metrics.pairwise import cosine_similarity"
   ]
  },
  {
   "cell_type": "code",
   "execution_count": 3,
   "id": "7c4e57f5",
   "metadata": {},
   "outputs": [],
   "source": [
    "#!pip install neattext"
   ]
  },
  {
   "cell_type": "code",
   "execution_count": 5,
   "id": "653809ab",
   "metadata": {},
   "outputs": [],
   "source": [
    "data = pd.read_csv('udemy_courses.csv')"
   ]
  },
  {
   "cell_type": "code",
   "execution_count": 7,
   "id": "7968e5ea",
   "metadata": {},
   "outputs": [
    {
     "data": {
      "text/plain": [
       "Index(['course_id', 'course_title', 'url', 'is_paid', 'price',\n",
       "       'num_subscribers', 'num_reviews', 'num_lectures', 'level',\n",
       "       'content_duration', 'published_timestamp', 'subject'],\n",
       "      dtype='object')"
      ]
     },
     "execution_count": 7,
     "metadata": {},
     "output_type": "execute_result"
    }
   ],
   "source": [
    "data.columns"
   ]
  },
  {
   "cell_type": "code",
   "execution_count": 9,
   "id": "cd1ec6dc",
   "metadata": {},
   "outputs": [
    {
     "data": {
      "text/html": [
       "<div>\n",
       "<style scoped>\n",
       "    .dataframe tbody tr th:only-of-type {\n",
       "        vertical-align: middle;\n",
       "    }\n",
       "\n",
       "    .dataframe tbody tr th {\n",
       "        vertical-align: top;\n",
       "    }\n",
       "\n",
       "    .dataframe thead th {\n",
       "        text-align: right;\n",
       "    }\n",
       "</style>\n",
       "<table border=\"1\" class=\"dataframe\">\n",
       "  <thead>\n",
       "    <tr style=\"text-align: right;\">\n",
       "      <th></th>\n",
       "      <th>course_id</th>\n",
       "      <th>course_title</th>\n",
       "      <th>url</th>\n",
       "      <th>is_paid</th>\n",
       "      <th>price</th>\n",
       "      <th>num_subscribers</th>\n",
       "      <th>num_reviews</th>\n",
       "      <th>num_lectures</th>\n",
       "      <th>level</th>\n",
       "      <th>content_duration</th>\n",
       "      <th>published_timestamp</th>\n",
       "      <th>subject</th>\n",
       "    </tr>\n",
       "  </thead>\n",
       "  <tbody>\n",
       "    <tr>\n",
       "      <th>0</th>\n",
       "      <td>1070968</td>\n",
       "      <td>Ultimate Investment Banking Course</td>\n",
       "      <td>https://www.udemy.com/ultimate-investment-bank...</td>\n",
       "      <td>True</td>\n",
       "      <td>200</td>\n",
       "      <td>2147</td>\n",
       "      <td>23</td>\n",
       "      <td>51</td>\n",
       "      <td>All Levels</td>\n",
       "      <td>1.5</td>\n",
       "      <td>2017-01-18T20:58:58Z</td>\n",
       "      <td>Business Finance</td>\n",
       "    </tr>\n",
       "  </tbody>\n",
       "</table>\n",
       "</div>"
      ],
      "text/plain": [
       "   course_id                        course_title  \\\n",
       "0    1070968  Ultimate Investment Banking Course   \n",
       "\n",
       "                                                 url  is_paid  price  \\\n",
       "0  https://www.udemy.com/ultimate-investment-bank...     True    200   \n",
       "\n",
       "   num_subscribers  num_reviews  num_lectures       level  content_duration  \\\n",
       "0             2147           23            51  All Levels               1.5   \n",
       "\n",
       "    published_timestamp           subject  \n",
       "0  2017-01-18T20:58:58Z  Business Finance  "
      ]
     },
     "execution_count": 9,
     "metadata": {},
     "output_type": "execute_result"
    }
   ],
   "source": [
    "data.head(1)"
   ]
  },
  {
   "cell_type": "code",
   "execution_count": 11,
   "id": "0876ee16",
   "metadata": {},
   "outputs": [
    {
     "data": {
      "text/plain": [
       "course_id              0\n",
       "course_title           0\n",
       "url                    0\n",
       "is_paid                0\n",
       "price                  0\n",
       "num_subscribers        0\n",
       "num_reviews            0\n",
       "num_lectures           0\n",
       "level                  0\n",
       "content_duration       0\n",
       "published_timestamp    0\n",
       "subject                0\n",
       "dtype: int64"
      ]
     },
     "execution_count": 11,
     "metadata": {},
     "output_type": "execute_result"
    }
   ],
   "source": [
    "data.isnull().sum()"
   ]
  },
  {
   "cell_type": "code",
   "execution_count": 13,
   "id": "dea915f9",
   "metadata": {},
   "outputs": [
    {
     "data": {
      "text/plain": [
       "True"
      ]
     },
     "execution_count": 13,
     "metadata": {},
     "output_type": "execute_result"
    }
   ],
   "source": [
    "data.duplicated().any()"
   ]
  },
  {
   "cell_type": "code",
   "execution_count": 15,
   "id": "5b2e0203",
   "metadata": {},
   "outputs": [
    {
     "data": {
      "text/html": [
       "<div>\n",
       "<style scoped>\n",
       "    .dataframe tbody tr th:only-of-type {\n",
       "        vertical-align: middle;\n",
       "    }\n",
       "\n",
       "    .dataframe tbody tr th {\n",
       "        vertical-align: top;\n",
       "    }\n",
       "\n",
       "    .dataframe thead th {\n",
       "        text-align: right;\n",
       "    }\n",
       "</style>\n",
       "<table border=\"1\" class=\"dataframe\">\n",
       "  <thead>\n",
       "    <tr style=\"text-align: right;\">\n",
       "      <th></th>\n",
       "      <th>course_id</th>\n",
       "      <th>course_title</th>\n",
       "      <th>url</th>\n",
       "      <th>is_paid</th>\n",
       "      <th>price</th>\n",
       "      <th>num_subscribers</th>\n",
       "      <th>num_reviews</th>\n",
       "      <th>num_lectures</th>\n",
       "      <th>level</th>\n",
       "      <th>content_duration</th>\n",
       "      <th>published_timestamp</th>\n",
       "      <th>subject</th>\n",
       "    </tr>\n",
       "  </thead>\n",
       "  <tbody>\n",
       "    <tr>\n",
       "      <th>787</th>\n",
       "      <td>837322</td>\n",
       "      <td>Essentials of money value: Get a financial Life !</td>\n",
       "      <td>https://www.udemy.com/essentials-of-money-value/</td>\n",
       "      <td>True</td>\n",
       "      <td>20</td>\n",
       "      <td>0</td>\n",
       "      <td>0</td>\n",
       "      <td>20</td>\n",
       "      <td>All Levels</td>\n",
       "      <td>0.616667</td>\n",
       "      <td>2016-05-16T18:28:30Z</td>\n",
       "      <td>Business Finance</td>\n",
       "    </tr>\n",
       "    <tr>\n",
       "      <th>788</th>\n",
       "      <td>1157298</td>\n",
       "      <td>Introduction to Forex Trading Business For Beg...</td>\n",
       "      <td>https://www.udemy.com/introduction-to-forex-tr...</td>\n",
       "      <td>True</td>\n",
       "      <td>20</td>\n",
       "      <td>0</td>\n",
       "      <td>0</td>\n",
       "      <td>27</td>\n",
       "      <td>Beginner Level</td>\n",
       "      <td>1.500000</td>\n",
       "      <td>2017-04-23T16:19:01Z</td>\n",
       "      <td>Business Finance</td>\n",
       "    </tr>\n",
       "    <tr>\n",
       "      <th>894</th>\n",
       "      <td>1035638</td>\n",
       "      <td>Understanding Financial Statements</td>\n",
       "      <td>https://www.udemy.com/understanding-financial-...</td>\n",
       "      <td>True</td>\n",
       "      <td>25</td>\n",
       "      <td>0</td>\n",
       "      <td>0</td>\n",
       "      <td>10</td>\n",
       "      <td>All Levels</td>\n",
       "      <td>1.000000</td>\n",
       "      <td>2016-12-15T14:56:17Z</td>\n",
       "      <td>Business Finance</td>\n",
       "    </tr>\n",
       "    <tr>\n",
       "      <th>1100</th>\n",
       "      <td>1084454</td>\n",
       "      <td>CFA Level 2- Quantitative Methods</td>\n",
       "      <td>https://www.udemy.com/cfa-level-2-quantitative...</td>\n",
       "      <td>True</td>\n",
       "      <td>40</td>\n",
       "      <td>0</td>\n",
       "      <td>0</td>\n",
       "      <td>35</td>\n",
       "      <td>All Levels</td>\n",
       "      <td>5.500000</td>\n",
       "      <td>2017-07-02T14:29:35Z</td>\n",
       "      <td>Business Finance</td>\n",
       "    </tr>\n",
       "    <tr>\n",
       "      <th>1473</th>\n",
       "      <td>185526</td>\n",
       "      <td>MicroStation - Células</td>\n",
       "      <td>https://www.udemy.com/microstation-celulas/</td>\n",
       "      <td>True</td>\n",
       "      <td>20</td>\n",
       "      <td>0</td>\n",
       "      <td>0</td>\n",
       "      <td>9</td>\n",
       "      <td>Beginner Level</td>\n",
       "      <td>0.616667</td>\n",
       "      <td>2014-04-15T21:48:55Z</td>\n",
       "      <td>Graphic Design</td>\n",
       "    </tr>\n",
       "    <tr>\n",
       "      <th>2561</th>\n",
       "      <td>28295</td>\n",
       "      <td>Learn Web Designing &amp; HTML5/CSS3 Essentials in...</td>\n",
       "      <td>https://www.udemy.com/build-beautiful-html5-we...</td>\n",
       "      <td>True</td>\n",
       "      <td>75</td>\n",
       "      <td>43285</td>\n",
       "      <td>525</td>\n",
       "      <td>24</td>\n",
       "      <td>All Levels</td>\n",
       "      <td>4.000000</td>\n",
       "      <td>2013-01-03T00:55:31Z</td>\n",
       "      <td>Web Development</td>\n",
       "    </tr>\n",
       "  </tbody>\n",
       "</table>\n",
       "</div>"
      ],
      "text/plain": [
       "      course_id                                       course_title  \\\n",
       "787      837322  Essentials of money value: Get a financial Life !   \n",
       "788     1157298  Introduction to Forex Trading Business For Beg...   \n",
       "894     1035638                 Understanding Financial Statements   \n",
       "1100    1084454                  CFA Level 2- Quantitative Methods   \n",
       "1473     185526                             MicroStation - Células   \n",
       "2561      28295  Learn Web Designing & HTML5/CSS3 Essentials in...   \n",
       "\n",
       "                                                    url  is_paid  price  \\\n",
       "787    https://www.udemy.com/essentials-of-money-value/     True     20   \n",
       "788   https://www.udemy.com/introduction-to-forex-tr...     True     20   \n",
       "894   https://www.udemy.com/understanding-financial-...     True     25   \n",
       "1100  https://www.udemy.com/cfa-level-2-quantitative...     True     40   \n",
       "1473        https://www.udemy.com/microstation-celulas/     True     20   \n",
       "2561  https://www.udemy.com/build-beautiful-html5-we...     True     75   \n",
       "\n",
       "      num_subscribers  num_reviews  num_lectures           level  \\\n",
       "787                 0            0            20      All Levels   \n",
       "788                 0            0            27  Beginner Level   \n",
       "894                 0            0            10      All Levels   \n",
       "1100                0            0            35      All Levels   \n",
       "1473                0            0             9  Beginner Level   \n",
       "2561            43285          525            24      All Levels   \n",
       "\n",
       "      content_duration   published_timestamp           subject  \n",
       "787           0.616667  2016-05-16T18:28:30Z  Business Finance  \n",
       "788           1.500000  2017-04-23T16:19:01Z  Business Finance  \n",
       "894           1.000000  2016-12-15T14:56:17Z  Business Finance  \n",
       "1100          5.500000  2017-07-02T14:29:35Z  Business Finance  \n",
       "1473          0.616667  2014-04-15T21:48:55Z    Graphic Design  \n",
       "2561          4.000000  2013-01-03T00:55:31Z   Web Development  "
      ]
     },
     "execution_count": 15,
     "metadata": {},
     "output_type": "execute_result"
    }
   ],
   "source": [
    "data[data.duplicated()]"
   ]
  },
  {
   "cell_type": "code",
   "execution_count": 17,
   "id": "35c2c395",
   "metadata": {},
   "outputs": [],
   "source": [
    "data = data.drop_duplicates()"
   ]
  },
  {
   "cell_type": "code",
   "execution_count": 19,
   "id": "e8086d9e",
   "metadata": {},
   "outputs": [
    {
     "data": {
      "text/plain": [
       "(3672, 12)"
      ]
     },
     "execution_count": 19,
     "metadata": {},
     "output_type": "execute_result"
    }
   ],
   "source": [
    "data.shape"
   ]
  },
  {
   "cell_type": "code",
   "execution_count": 21,
   "id": "cb1dc479",
   "metadata": {},
   "outputs": [
    {
     "data": {
      "text/plain": [
       "0                      Ultimate Investment Banking Course\n",
       "1       Complete GST Course & Certification - Grow You...\n",
       "2       Financial Modeling for Business Analysts and C...\n",
       "3       Beginner to Pro - Financial Analysis in Excel ...\n",
       "4            How To Maximize Your Profits Trading Options\n",
       "                              ...                        \n",
       "3673    Learn jQuery from Scratch - Master of JavaScri...\n",
       "3674    How To Design A WordPress Website With No Codi...\n",
       "3675                        Learn and Build using Polymer\n",
       "3676    CSS Animations: Create Amazing Effects on Your...\n",
       "3677    Using MODX CMS to Build Websites: A Beginner's...\n",
       "Name: course_title, Length: 3672, dtype: object"
      ]
     },
     "execution_count": 21,
     "metadata": {},
     "output_type": "execute_result"
    }
   ],
   "source": [
    "data['course_title']"
   ]
  },
  {
   "cell_type": "code",
   "execution_count": 23,
   "id": "094b9d68",
   "metadata": {},
   "outputs": [
    {
     "data": {
      "text/plain": [
       "Index(['course_id', 'course_title', 'url', 'is_paid', 'price',\n",
       "       'num_subscribers', 'num_reviews', 'num_lectures', 'level',\n",
       "       'content_duration', 'published_timestamp', 'subject'],\n",
       "      dtype='object')"
      ]
     },
     "execution_count": 23,
     "metadata": {},
     "output_type": "execute_result"
    }
   ],
   "source": [
    "data.columns"
   ]
  },
  {
   "cell_type": "markdown",
   "id": "7a0d5eb6",
   "metadata": {},
   "source": [
    "### Popularity-based recommendation system "
   ]
  },
  {
   "cell_type": "code",
   "execution_count": 26,
   "id": "f0475389",
   "metadata": {},
   "outputs": [],
   "source": [
    "def popularity_based_recommendation(df,top_n=5):\n",
    "    # Calculate popularity score for each course\n",
    "    data['popularity_score'] = 0.6 * data['num_subscribers'] + 0.4 * data['num_reviews']\n",
    "    \n",
    "    # Sort courses by popularity score in descending order\n",
    "    df_sorted = data.sort_values(by='popularity_score', ascending=False)\n",
    "    \n",
    "    # Return the recommended courses (course titles and popularity scores)\n",
    "    recommended_courses = df_sorted[['course_title', 'popularity_score']].head(top_n)\n",
    "    \n",
    "    return recommended_courses"
   ]
  },
  {
   "cell_type": "code",
   "execution_count": 28,
   "id": "6b7543ed",
   "metadata": {},
   "outputs": [
    {
     "data": {
      "text/html": [
       "<div>\n",
       "<style scoped>\n",
       "    .dataframe tbody tr th:only-of-type {\n",
       "        vertical-align: middle;\n",
       "    }\n",
       "\n",
       "    .dataframe tbody tr th {\n",
       "        vertical-align: top;\n",
       "    }\n",
       "\n",
       "    .dataframe thead th {\n",
       "        text-align: right;\n",
       "    }\n",
       "</style>\n",
       "<table border=\"1\" class=\"dataframe\">\n",
       "  <thead>\n",
       "    <tr style=\"text-align: right;\">\n",
       "      <th></th>\n",
       "      <th>course_title</th>\n",
       "      <th>popularity_score</th>\n",
       "    </tr>\n",
       "  </thead>\n",
       "  <tbody>\n",
       "    <tr>\n",
       "      <th>2827</th>\n",
       "      <td>Learn HTML5 Programming From Scratch</td>\n",
       "      <td>164805.4</td>\n",
       "    </tr>\n",
       "    <tr>\n",
       "      <th>3032</th>\n",
       "      <td>Coding for Entrepreneurs Basic</td>\n",
       "      <td>96729.0</td>\n",
       "    </tr>\n",
       "    <tr>\n",
       "      <th>3230</th>\n",
       "      <td>The Web Developer Bootcamp</td>\n",
       "      <td>83928.4</td>\n",
       "    </tr>\n",
       "    <tr>\n",
       "      <th>3232</th>\n",
       "      <td>The Complete Web Developer Course 2.0</td>\n",
       "      <td>77672.0</td>\n",
       "    </tr>\n",
       "    <tr>\n",
       "      <th>2783</th>\n",
       "      <td>Build Your First Website in 1 Week with HTML5 ...</td>\n",
       "      <td>74544.2</td>\n",
       "    </tr>\n",
       "  </tbody>\n",
       "</table>\n",
       "</div>"
      ],
      "text/plain": [
       "                                           course_title  popularity_score\n",
       "2827               Learn HTML5 Programming From Scratch          164805.4\n",
       "3032                     Coding for Entrepreneurs Basic           96729.0\n",
       "3230                         The Web Developer Bootcamp           83928.4\n",
       "3232              The Complete Web Developer Course 2.0           77672.0\n",
       "2783  Build Your First Website in 1 Week with HTML5 ...           74544.2"
      ]
     },
     "execution_count": 28,
     "metadata": {},
     "output_type": "execute_result"
    }
   ],
   "source": [
    "popularity_based_recommendation(data)"
   ]
  },
  {
   "cell_type": "markdown",
   "id": "7ed80213",
   "metadata": {},
   "source": [
    "### Content-Based Recommendation System"
   ]
  },
  {
   "cell_type": "code",
   "execution_count": 31,
   "id": "88ef8d70",
   "metadata": {},
   "outputs": [],
   "source": [
    "data['course_title'] = data['course_title'].apply(nfx.remove_stopwords)\n",
    "data['course_title']  =data['course_title'].apply(nfx.remove_special_characters)"
   ]
  },
  {
   "cell_type": "code",
   "execution_count": 33,
   "id": "4e6551ba",
   "metadata": {},
   "outputs": [
    {
     "data": {
      "text/html": [
       "<div>\n",
       "<style scoped>\n",
       "    .dataframe tbody tr th:only-of-type {\n",
       "        vertical-align: middle;\n",
       "    }\n",
       "\n",
       "    .dataframe tbody tr th {\n",
       "        vertical-align: top;\n",
       "    }\n",
       "\n",
       "    .dataframe thead th {\n",
       "        text-align: right;\n",
       "    }\n",
       "</style>\n",
       "<table border=\"1\" class=\"dataframe\">\n",
       "  <thead>\n",
       "    <tr style=\"text-align: right;\">\n",
       "      <th></th>\n",
       "      <th>course_id</th>\n",
       "      <th>course_title</th>\n",
       "      <th>url</th>\n",
       "      <th>is_paid</th>\n",
       "      <th>price</th>\n",
       "      <th>num_subscribers</th>\n",
       "      <th>num_reviews</th>\n",
       "      <th>num_lectures</th>\n",
       "      <th>level</th>\n",
       "      <th>content_duration</th>\n",
       "      <th>published_timestamp</th>\n",
       "      <th>subject</th>\n",
       "      <th>popularity_score</th>\n",
       "    </tr>\n",
       "  </thead>\n",
       "  <tbody>\n",
       "    <tr>\n",
       "      <th>2835</th>\n",
       "      <td>683606</td>\n",
       "      <td>Ultimate WordPress Boot Camp Build 7 Websites</td>\n",
       "      <td>https://www.udemy.com/the-ultimate-wordpress-b...</td>\n",
       "      <td>True</td>\n",
       "      <td>125</td>\n",
       "      <td>1000</td>\n",
       "      <td>74</td>\n",
       "      <td>140</td>\n",
       "      <td>Intermediate Level</td>\n",
       "      <td>11.0</td>\n",
       "      <td>2016-02-26T21:21:01Z</td>\n",
       "      <td>Web Development</td>\n",
       "      <td>629.6</td>\n",
       "    </tr>\n",
       "    <tr>\n",
       "      <th>2516</th>\n",
       "      <td>1103954</td>\n",
       "      <td>Nodejs Essentials  API Frameworks Express KOA ...</td>\n",
       "      <td>https://www.udemy.com/nodejs-up-and-running/</td>\n",
       "      <td>True</td>\n",
       "      <td>20</td>\n",
       "      <td>2760</td>\n",
       "      <td>52</td>\n",
       "      <td>34</td>\n",
       "      <td>Beginner Level</td>\n",
       "      <td>1.0</td>\n",
       "      <td>2017-02-16T21:59:01Z</td>\n",
       "      <td>Web Development</td>\n",
       "      <td>1676.8</td>\n",
       "    </tr>\n",
       "    <tr>\n",
       "      <th>2297</th>\n",
       "      <td>1144288</td>\n",
       "      <td>Poldark TV series Soundtracks PianoQuicklessons</td>\n",
       "      <td>https://www.udemy.com/poldark-tv-series-soundt...</td>\n",
       "      <td>True</td>\n",
       "      <td>20</td>\n",
       "      <td>8</td>\n",
       "      <td>1</td>\n",
       "      <td>9</td>\n",
       "      <td>Beginner Level</td>\n",
       "      <td>1.0</td>\n",
       "      <td>2017-03-16T22:39:09Z</td>\n",
       "      <td>Musical Instruments</td>\n",
       "      <td>5.2</td>\n",
       "    </tr>\n",
       "    <tr>\n",
       "      <th>1338</th>\n",
       "      <td>638040</td>\n",
       "      <td>Adobe Photoshop Essentials Master Adobe Photos...</td>\n",
       "      <td>https://www.udemy.com/adobe-photoshop-cs6-esse...</td>\n",
       "      <td>True</td>\n",
       "      <td>100</td>\n",
       "      <td>1373</td>\n",
       "      <td>5</td>\n",
       "      <td>63</td>\n",
       "      <td>Beginner Level</td>\n",
       "      <td>2.5</td>\n",
       "      <td>2015-11-18T17:47:26Z</td>\n",
       "      <td>Graphic Design</td>\n",
       "      <td>825.8</td>\n",
       "    </tr>\n",
       "    <tr>\n",
       "      <th>1210</th>\n",
       "      <td>749542</td>\n",
       "      <td>Graphic Design Bootcamp</td>\n",
       "      <td>https://www.udemy.com/graphic-design-for-begin...</td>\n",
       "      <td>True</td>\n",
       "      <td>200</td>\n",
       "      <td>15276</td>\n",
       "      <td>1740</td>\n",
       "      <td>65</td>\n",
       "      <td>Beginner Level</td>\n",
       "      <td>8.0</td>\n",
       "      <td>2016-05-13T00:03:03Z</td>\n",
       "      <td>Graphic Design</td>\n",
       "      <td>9861.6</td>\n",
       "    </tr>\n",
       "  </tbody>\n",
       "</table>\n",
       "</div>"
      ],
      "text/plain": [
       "      course_id                                       course_title  \\\n",
       "2835     683606      Ultimate WordPress Boot Camp Build 7 Websites   \n",
       "2516    1103954  Nodejs Essentials  API Frameworks Express KOA ...   \n",
       "2297    1144288    Poldark TV series Soundtracks PianoQuicklessons   \n",
       "1338     638040  Adobe Photoshop Essentials Master Adobe Photos...   \n",
       "1210     749542                            Graphic Design Bootcamp   \n",
       "\n",
       "                                                    url  is_paid  price  \\\n",
       "2835  https://www.udemy.com/the-ultimate-wordpress-b...     True    125   \n",
       "2516       https://www.udemy.com/nodejs-up-and-running/     True     20   \n",
       "2297  https://www.udemy.com/poldark-tv-series-soundt...     True     20   \n",
       "1338  https://www.udemy.com/adobe-photoshop-cs6-esse...     True    100   \n",
       "1210  https://www.udemy.com/graphic-design-for-begin...     True    200   \n",
       "\n",
       "      num_subscribers  num_reviews  num_lectures               level  \\\n",
       "2835             1000           74           140  Intermediate Level   \n",
       "2516             2760           52            34      Beginner Level   \n",
       "2297                8            1             9      Beginner Level   \n",
       "1338             1373            5            63      Beginner Level   \n",
       "1210            15276         1740            65      Beginner Level   \n",
       "\n",
       "      content_duration   published_timestamp              subject  \\\n",
       "2835              11.0  2016-02-26T21:21:01Z      Web Development   \n",
       "2516               1.0  2017-02-16T21:59:01Z      Web Development   \n",
       "2297               1.0  2017-03-16T22:39:09Z  Musical Instruments   \n",
       "1338               2.5  2015-11-18T17:47:26Z       Graphic Design   \n",
       "1210               8.0  2016-05-13T00:03:03Z       Graphic Design   \n",
       "\n",
       "      popularity_score  \n",
       "2835             629.6  \n",
       "2516            1676.8  \n",
       "2297               5.2  \n",
       "1338             825.8  \n",
       "1210            9861.6  "
      ]
     },
     "execution_count": 33,
     "metadata": {},
     "output_type": "execute_result"
    }
   ],
   "source": [
    "data.sample(5)"
   ]
  },
  {
   "cell_type": "code",
   "execution_count": 35,
   "id": "4c53d588",
   "metadata": {},
   "outputs": [],
   "source": [
    "data['title_subject']  =data['course_title'] +' '+data['subject']"
   ]
  },
  {
   "cell_type": "code",
   "execution_count": 37,
   "id": "f6aac737",
   "metadata": {},
   "outputs": [],
   "source": [
    "cv = CountVectorizer(max_features=3000)\n",
    "vectors = cv.fit_transform(data['title_subject']).toarray()"
   ]
  },
  {
   "cell_type": "code",
   "execution_count": 39,
   "id": "84cb0bbe",
   "metadata": {},
   "outputs": [
    {
     "data": {
      "text/plain": [
       "array([0, 0, 0, ..., 0, 0, 0], dtype=int64)"
      ]
     },
     "execution_count": 39,
     "metadata": {},
     "output_type": "execute_result"
    }
   ],
   "source": [
    "vectors[0]"
   ]
  },
  {
   "cell_type": "code",
   "execution_count": 41,
   "id": "d70b0827",
   "metadata": {},
   "outputs": [
    {
     "data": {
      "text/plain": [
       "3000"
      ]
     },
     "execution_count": 41,
     "metadata": {},
     "output_type": "execute_result"
    }
   ],
   "source": [
    "len(cv.get_feature_names_out())"
   ]
  },
  {
   "cell_type": "code",
   "execution_count": 43,
   "id": "b9cbaedd",
   "metadata": {},
   "outputs": [],
   "source": [
    "#cv.get_feature_names()"
   ]
  },
  {
   "cell_type": "code",
   "execution_count": 45,
   "id": "cd0710cc",
   "metadata": {},
   "outputs": [],
   "source": [
    "from sklearn.metrics.pairwise import cosine_similarity"
   ]
  },
  {
   "cell_type": "code",
   "execution_count": 47,
   "id": "42eea675",
   "metadata": {},
   "outputs": [],
   "source": [
    "similarity = cosine_similarity(vectors)"
   ]
  },
  {
   "cell_type": "code",
   "execution_count": 48,
   "id": "d2352d89",
   "metadata": {},
   "outputs": [
    {
     "data": {
      "text/plain": [
       "[(39, 0.7715167498104596),\n",
       " (240, 0.6666666666666669),\n",
       " (417, 0.6666666666666669),\n",
       " (418, 0.6172133998483676),\n",
       " (657, 0.6172133998483676)]"
      ]
     },
     "execution_count": 48,
     "metadata": {},
     "output_type": "execute_result"
    }
   ],
   "source": [
    "sorted(list(enumerate(similarity[0])),reverse=True,key=lambda x:x[1])[1:6]"
   ]
  },
  {
   "cell_type": "code",
   "execution_count": 51,
   "id": "3555852e",
   "metadata": {},
   "outputs": [],
   "source": [
    "def recommend(course):\n",
    "    # let's featch the index\n",
    "    course_index = data[data['course_title']==course].index[0]\n",
    "    distances = similarity[course_index]\n",
    "    courses_list = sorted(list(enumerate(distances)),reverse=True,key=lambda x:x[1])[1:6]\n",
    "    for i in courses_list:\n",
    "        print(data.iloc[i[0]]['course_title'])"
   ]
  },
  {
   "cell_type": "code",
   "execution_count": 53,
   "id": "64fcc44d",
   "metadata": {},
   "outputs": [],
   "source": [
    "#recommend(\"know HTML Learn HTML Basics\")"
   ]
  },
  {
   "cell_type": "code",
   "execution_count": 55,
   "id": "821de28d",
   "metadata": {},
   "outputs": [
    {
     "name": "stdout",
     "output_type": "stream",
     "text": [
      "WordPress Development Beginners\n",
      "Wordpress Theme Development Beginners\n",
      "Wordpress beginners Build Websites Fast Coding\n",
      "Website Coding WordPress  Web Skills\n",
      "Kids Coding  Beginners CSS\n"
     ]
    }
   ],
   "source": [
    "recommend(\"know HTML Learn HTML Basics\")"
   ]
  },
  {
   "cell_type": "code",
   "execution_count": 57,
   "id": "eeb41a41",
   "metadata": {},
   "outputs": [
    {
     "data": {
      "text/plain": [
       "'Complete Investment Banking Course 2017'"
      ]
     },
     "execution_count": 57,
     "metadata": {},
     "output_type": "execute_result"
    }
   ],
   "source": [
    "data.iloc[39]['course_title']"
   ]
  },
  {
   "cell_type": "code",
   "execution_count": 59,
   "id": "f361afeb",
   "metadata": {},
   "outputs": [],
   "source": [
    "#sorted(similarity[0],reverse=True)"
   ]
  },
  {
   "cell_type": "code",
   "execution_count": 61,
   "id": "adc202dc",
   "metadata": {},
   "outputs": [],
   "source": [
    "import pickle"
   ]
  },
  {
   "cell_type": "code",
   "execution_count": 63,
   "id": "f186f68d",
   "metadata": {},
   "outputs": [],
   "source": [
    "#pickle.dump(data.to_dict(),open('course_dict.pkl','wb'))\n",
    "pickle.dump(data,open('course_dict.pkl','wb'))"
   ]
  },
  {
   "cell_type": "code",
   "execution_count": 65,
   "id": "56c2cfbb",
   "metadata": {},
   "outputs": [],
   "source": [
    "pickle.dump(similarity,open('similarity.pkl','wb'))"
   ]
  },
  {
   "cell_type": "code",
   "execution_count": null,
   "id": "4f8992a0",
   "metadata": {},
   "outputs": [],
   "source": []
  },
  {
   "cell_type": "code",
   "execution_count": null,
   "id": "37ad3031",
   "metadata": {},
   "outputs": [],
   "source": [
    "import tkinter as tk\n",
    "from tkinter import ttk, messagebox\n",
    "import pandas as pd\n",
    "\n",
    "# Assume 'data', 'similarity' are defined elsewhere\n",
    "\n",
    "# Define the popularity-based recommendation function\n",
    "def popularity_based_recommendation(df, top_n=5):\n",
    "    df['popularity_score'] = 0.6 * df['num_subscribers'] + 0.4 * df['num_reviews']\n",
    "    df_sorted = df.sort_values(by='popularity_score', ascending=False)\n",
    "    recommended_courses = df_sorted[['course_title', 'popularity_score']].head(top_n)\n",
    "    return recommended_courses\n",
    "\n",
    "# Define the recommend function\n",
    "def recommend(course):\n",
    "    try:\n",
    "        course_index = data[data['course_title'] == course].index[0]\n",
    "        distances = similarity[course_index]\n",
    "        courses_list = sorted(list(enumerate(distances)), reverse=True, key=lambda x: x[1])[1:6]\n",
    "        recommended_courses = [data.iloc[i[0]]['course_title'] for i in courses_list]\n",
    "        return recommended_courses\n",
    "    except IndexError:\n",
    "        messagebox.showerror(\"Error\", f\"Course '{course}' not found.\")\n",
    "\n",
    "# Event handler for the \"Recommend\" button\n",
    "def recommend_button_click():\n",
    "    course_title = course_var.get()\n",
    "    recommended_courses = recommend(course_title)\n",
    "    if recommended_courses:\n",
    "        popularity_label.pack_forget()\n",
    "        result_label.config(text=\"Recommended Courses:\\n\" + '\\n'.join(recommended_courses))\n",
    "\n",
    "# Create the main application window\n",
    "root = tk.Tk()\n",
    "root.title(\"Course Recommender\")\n",
    "root.geometry(\"400x300\")\n",
    "\n",
    "# Change font and color\n",
    "font_style = (\"Arial\", 12)\n",
    "label_color = \"blue\"\n",
    "heading_color=\"red\"\n",
    "button_color = \"green\"\n",
    "result_label_color = \"black\"\n",
    "\n",
    "# Create and place GUI elements\n",
    "label = tk.Label(root, text=\"Select Course:\", font=font_style, fg=label_color)\n",
    "label.pack(pady=10)\n",
    "\n",
    "course_titles = data['course_title'].tolist()\n",
    "course_var = tk.StringVar(value=course_titles[0])\n",
    "course_dropdown = ttk.Combobox(root, textvariable=course_var, values=course_titles, width=40, font=font_style)\n",
    "course_dropdown.pack(pady=5)\n",
    "\n",
    "popularity_recommendations = popularity_based_recommendation(data, top_n=5)\n",
    "popularity_label = tk.Label(root, text=\"Popularity-based Recommendations:\\n\" + popularity_recommendations.to_string(index=False),\n",
    "                             font=font_style, fg=label_color)\n",
    "popularity_label.pack()\n",
    "\n",
    "recommend_button = tk.Button(root, text=\"Recommend\", command=recommend_button_click, width=20, font=font_style, fg=button_color)\n",
    "recommend_button.pack(pady=10)\n",
    "\n",
    "result_label = tk.Label(root, text=\"\", wraplength=350, font=font_style, fg=result_label_color)\n",
    "result_label.pack()\n",
    "\n",
    "root.mainloop()\n"
   ]
  },
  {
   "cell_type": "code",
   "execution_count": null,
   "id": "02fb4037",
   "metadata": {},
   "outputs": [],
   "source": []
  },
  {
   "cell_type": "code",
   "execution_count": null,
   "id": "293cacd2",
   "metadata": {},
   "outputs": [],
   "source": []
  },
  {
   "cell_type": "code",
   "execution_count": null,
   "id": "493206c4",
   "metadata": {},
   "outputs": [],
   "source": []
  }
 ],
 "metadata": {
  "kernelspec": {
   "display_name": "Python 3 (ipykernel)",
   "language": "python",
   "name": "python3"
  },
  "language_info": {
   "codemirror_mode": {
    "name": "ipython",
    "version": 3
   },
   "file_extension": ".py",
   "mimetype": "text/x-python",
   "name": "python",
   "nbconvert_exporter": "python",
   "pygments_lexer": "ipython3",
   "version": "3.11.5"
  }
 },
 "nbformat": 4,
 "nbformat_minor": 5
}
